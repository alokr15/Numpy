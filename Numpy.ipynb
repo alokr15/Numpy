{
 "cells": [
  {
   "cell_type": "markdown",
   "id": "6ff23166",
   "metadata": {},
   "source": [
    "# Numpy :\n",
    "\n",
    "NumPy is a library for the Python programming language, adding support for large, multi-dimensional arrays and matrices, along with a large collection of high-level mathematical functions to operate on these arrays.\n",
    "\n",
    "The core functionality of NumPy is its \"ndarray\", for n-dimensional array, data structure. These arrays are strided views on memory. In contrast to Python's built-in list data structure, these arrays are homogeneously typed: all elements of a single array must be of the same type."
   ]
  },
  {
   "cell_type": "code",
   "execution_count": null,
   "id": "7502ce91",
   "metadata": {},
   "outputs": [],
   "source": []
  },
  {
   "cell_type": "code",
   "execution_count": 1,
   "id": "e3425d0d",
   "metadata": {},
   "outputs": [],
   "source": [
    "import numpy as np"
   ]
  },
  {
   "cell_type": "code",
   "execution_count": 2,
   "id": "d40f08f7",
   "metadata": {},
   "outputs": [],
   "source": [
    "lst = [1,2,3,4,5]"
   ]
  },
  {
   "cell_type": "code",
   "execution_count": 3,
   "id": "e747257f",
   "metadata": {},
   "outputs": [],
   "source": [
    "arr= np.array(lst)"
   ]
  },
  {
   "cell_type": "code",
   "execution_count": 4,
   "id": "bca8132d",
   "metadata": {},
   "outputs": [
    {
     "data": {
      "text/plain": [
       "array([1, 2, 3, 4, 5])"
      ]
     },
     "execution_count": 4,
     "metadata": {},
     "output_type": "execute_result"
    }
   ],
   "source": [
    "arr"
   ]
  },
  {
   "cell_type": "code",
   "execution_count": 7,
   "id": "6bad6761",
   "metadata": {},
   "outputs": [
    {
     "data": {
      "text/plain": [
       "array([2, 3, 4, 5])"
      ]
     },
     "execution_count": 7,
     "metadata": {},
     "output_type": "execute_result"
    }
   ],
   "source": [
    "arr[1:]"
   ]
  },
  {
   "cell_type": "code",
   "execution_count": 8,
   "id": "5b8ccfce",
   "metadata": {},
   "outputs": [],
   "source": [
    "lst1 = [2,3,4,5,6,3]\n",
    "lst2 = [3,5,7,8,9,5]\n",
    "lst3 = [2,5,4,3,7,8]"
   ]
  },
  {
   "cell_type": "code",
   "execution_count": 10,
   "id": "0c5ec684",
   "metadata": {},
   "outputs": [],
   "source": [
    "arr1 = np.array([lst1,lst2,lst3])"
   ]
  },
  {
   "cell_type": "code",
   "execution_count": 11,
   "id": "5a141667",
   "metadata": {},
   "outputs": [
    {
     "data": {
      "text/plain": [
       "array([[2, 3, 4, 5, 6, 3],\n",
       "       [3, 5, 7, 8, 9, 5],\n",
       "       [2, 5, 4, 3, 7, 8]])"
      ]
     },
     "execution_count": 11,
     "metadata": {},
     "output_type": "execute_result"
    }
   ],
   "source": [
    "arr1"
   ]
  },
  {
   "cell_type": "code",
   "execution_count": 12,
   "id": "c59bf36f",
   "metadata": {},
   "outputs": [
    {
     "data": {
      "text/plain": [
       "(3, 6)"
      ]
     },
     "execution_count": 12,
     "metadata": {},
     "output_type": "execute_result"
    }
   ],
   "source": [
    "arr1.shape"
   ]
  },
  {
   "cell_type": "code",
   "execution_count": 53,
   "id": "ac5118ba",
   "metadata": {},
   "outputs": [
    {
     "data": {
      "text/plain": [
       "array([[8, 9],\n",
       "       [3, 7]])"
      ]
     },
     "execution_count": 53,
     "metadata": {},
     "output_type": "execute_result"
    }
   ],
   "source": [
    "arr1[1:,3:5]"
   ]
  },
  {
   "cell_type": "code",
   "execution_count": 54,
   "id": "736ecf46",
   "metadata": {},
   "outputs": [
    {
     "data": {
      "text/plain": [
       "array([[5, 7, 8, 9]])"
      ]
     },
     "execution_count": 54,
     "metadata": {},
     "output_type": "execute_result"
    }
   ],
   "source": [
    "arr1[1:2,1:5]"
   ]
  },
  {
   "cell_type": "code",
   "execution_count": 13,
   "id": "a005fab3",
   "metadata": {},
   "outputs": [],
   "source": [
    "arr2= arr1.reshape(9,2)"
   ]
  },
  {
   "cell_type": "code",
   "execution_count": 14,
   "id": "6d3ee10d",
   "metadata": {},
   "outputs": [
    {
     "data": {
      "text/plain": [
       "array([[2, 3],\n",
       "       [4, 5],\n",
       "       [6, 3],\n",
       "       [3, 5],\n",
       "       [7, 8],\n",
       "       [9, 5],\n",
       "       [2, 5],\n",
       "       [4, 3],\n",
       "       [7, 8]])"
      ]
     },
     "execution_count": 14,
     "metadata": {},
     "output_type": "execute_result"
    }
   ],
   "source": [
    "arr2"
   ]
  },
  {
   "cell_type": "code",
   "execution_count": 15,
   "id": "719d745f",
   "metadata": {},
   "outputs": [
    {
     "data": {
      "text/plain": [
       "array([1, 2, 3, 4, 5])"
      ]
     },
     "execution_count": 15,
     "metadata": {},
     "output_type": "execute_result"
    }
   ],
   "source": [
    "arr"
   ]
  },
  {
   "cell_type": "code",
   "execution_count": 17,
   "id": "bdceebf6",
   "metadata": {},
   "outputs": [
    {
     "data": {
      "text/plain": [
       "array([ 2,  4,  6,  8, 10])"
      ]
     },
     "execution_count": 17,
     "metadata": {},
     "output_type": "execute_result"
    }
   ],
   "source": [
    "arr\n",
    "arr3= arr.copy()\n",
    "arr3*2"
   ]
  },
  {
   "cell_type": "code",
   "execution_count": 18,
   "id": "8ad45d64",
   "metadata": {},
   "outputs": [
    {
     "data": {
      "text/plain": [
       "array([1, 2, 3, 4, 5])"
      ]
     },
     "execution_count": 18,
     "metadata": {},
     "output_type": "execute_result"
    }
   ],
   "source": [
    "arr"
   ]
  },
  {
   "cell_type": "code",
   "execution_count": 22,
   "id": "eecd3f15",
   "metadata": {},
   "outputs": [],
   "source": [
    "arr4= np.arange(0,10).reshape(2,5)"
   ]
  },
  {
   "cell_type": "code",
   "execution_count": 23,
   "id": "27b349c0",
   "metadata": {},
   "outputs": [
    {
     "data": {
      "text/plain": [
       "array([[0, 1, 2, 3, 4],\n",
       "       [5, 6, 7, 8, 9]])"
      ]
     },
     "execution_count": 23,
     "metadata": {},
     "output_type": "execute_result"
    }
   ],
   "source": [
    "arr4"
   ]
  },
  {
   "cell_type": "code",
   "execution_count": 25,
   "id": "7204bd96",
   "metadata": {},
   "outputs": [
    {
     "data": {
      "text/plain": [
       "array([[0.5810179 , 0.51799066, 0.33253773],\n",
       "       [0.98698241, 0.44536842, 0.29920265],\n",
       "       [0.24339988, 0.67362983, 0.92239826]])"
      ]
     },
     "execution_count": 25,
     "metadata": {},
     "output_type": "execute_result"
    }
   ],
   "source": [
    "# random.rand genrates random values between 0-1 for given size\n",
    "arr5 = np.random.rand(3,3)\n",
    "arr5"
   ]
  },
  {
   "cell_type": "code",
   "execution_count": 28,
   "id": "b37b8a04",
   "metadata": {},
   "outputs": [
    {
     "data": {
      "text/plain": [
       "array([[ 1.81971766, -0.58515631,  0.54337134,  0.97158552],\n",
       "       [-0.71165072,  0.06458551, -0.76434234,  0.01990719],\n",
       "       [-2.05583345,  0.21001336,  1.32300253, -1.87033299],\n",
       "       [ 0.31316044,  0.69761264,  0.0583155 , -0.7152678 ]])"
      ]
     },
     "execution_count": 28,
     "metadata": {},
     "output_type": "execute_result"
    }
   ],
   "source": [
    "# random.randn generates statndard normal values\n",
    "arr6 = np.random.randn(4,4)\n",
    "arr6"
   ]
  },
  {
   "cell_type": "code",
   "execution_count": 36,
   "id": "6ba5581d",
   "metadata": {},
   "outputs": [
    {
     "data": {
      "text/plain": [
       "array([[80, 60, 61, 48, 21],\n",
       "       [10, 16, 15, 59, 87],\n",
       "       [73, 62, 18, 15,  8],\n",
       "       [34, 52, 56,  9, 42]])"
      ]
     },
     "execution_count": 36,
     "metadata": {},
     "output_type": "execute_result"
    }
   ],
   "source": [
    "arr7= np.random.randint(5,100,20).reshape(4,5)\n",
    "arr7"
   ]
  },
  {
   "cell_type": "code",
   "execution_count": 43,
   "id": "f6d62410",
   "metadata": {},
   "outputs": [
    {
     "data": {
      "text/plain": [
       "array([[1, 1, 1],\n",
       "       [1, 1, 1]])"
      ]
     },
     "execution_count": 43,
     "metadata": {},
     "output_type": "execute_result"
    }
   ],
   "source": [
    "arr8= np.ones(6, dtype=int).reshape(2,3)\n",
    "arr8"
   ]
  },
  {
   "cell_type": "code",
   "execution_count": 49,
   "id": "2055e23d",
   "metadata": {},
   "outputs": [
    {
     "data": {
      "text/plain": [
       "array([0.78221862, 0.08468431, 0.77335824, 0.67358587, 0.41188011])"
      ]
     },
     "execution_count": 49,
     "metadata": {},
     "output_type": "execute_result"
    }
   ],
   "source": [
    "arr9 = np.random.random_sample(5)\n",
    "arr9"
   ]
  }
 ],
 "metadata": {
  "kernelspec": {
   "display_name": "Python 3",
   "language": "python",
   "name": "python3"
  },
  "language_info": {
   "codemirror_mode": {
    "name": "ipython",
    "version": 3
   },
   "file_extension": ".py",
   "mimetype": "text/x-python",
   "name": "python",
   "nbconvert_exporter": "python",
   "pygments_lexer": "ipython3",
   "version": "3.8.8"
  }
 },
 "nbformat": 4,
 "nbformat_minor": 5
}
